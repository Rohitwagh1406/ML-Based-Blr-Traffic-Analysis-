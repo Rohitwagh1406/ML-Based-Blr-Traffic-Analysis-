{
 "cells": [
  {
   "cell_type": "markdown",
   "id": "b1c5e920",
   "metadata": {},
   "source": [
    "# Traffic Analysis Project"
   ]
  },
  {
   "cell_type": "markdown",
   "id": "9b7009ff",
   "metadata": {},
   "source": [
    "\n",
    "This notebook demonstrates the process of analyzing and predicting traffic patterns in Bangalore using machine learning techniques.\n",
    "\n",
    "## Objectives:\n",
    "1. **Traffic Volume Prediction**: Predict traffic volume on different roads in Bangalore.\n",
    "2. **Congestion Level Classification**: Classify congestion levels into categories (Low, Medium, High).\n",
    "3. **Incident Detection**: Predict incident reports based on traffic data.\n",
    "\n",
    "## Load and Preprocess the Data\n"
   ]
  },
  {
   "cell_type": "code",
   "execution_count": null,
   "id": "ae5270f0",
   "metadata": {},
   "outputs": [],
   "source": [
    "\n",
    "import pandas as pd\n",
    "from sklearn.preprocessing import LabelEncoder\n",
    "from sklearn.model_selection import train_test_split\n",
    "from sklearn.preprocessing import StandardScaler\n",
    "\n",
    "# Load the dataset\n",
    "file_path = 'Banglore_traffic_Dataset 2.csv'\n",
    "df = pd.read_csv(file_path)\n",
    "\n",
    "# Convert 'Date' column to datetime format and extract time-based features\n",
    "df['Date'] = pd.to_datetime(df['Date'])\n",
    "df['Year'] = df['Date'].dt.year\n",
    "df['Month'] = df['Date'].dt.month\n",
    "df['Day'] = df['Date'].dt.day\n",
    "df['Weekday'] = df['Date'].dt.weekday\n",
    "\n",
    "# Encode categorical columns ('Weather Conditions' and 'Roadwork and Construction Activity')\n",
    "label_encoder = LabelEncoder()\n",
    "df['Weather Conditions'] = label_encoder.fit_transform(df['Weather Conditions'])\n",
    "df['Roadwork and Construction Activity'] = label_encoder.fit_transform(df['Roadwork and Construction Activity'])\n",
    "\n",
    "# Drop the original 'Date' column\n",
    "df.drop(columns=['Date'], inplace=True)\n",
    "\n",
    "# Split the data for modeling\n",
    "X = df.drop(columns=['Traffic Volume', 'Congestion Level', 'Incident Reports'])\n",
    "y_traffic_volume = df['Traffic Volume']\n",
    "y_congestion_level = df['Congestion Level']\n",
    "y_incident_reports = df['Incident Reports']\n"
   ]
  },
  {
   "cell_type": "markdown",
   "id": "100d878b",
   "metadata": {},
   "source": [
    "## Traffic Volume Prediction - Random Forest Regressor"
   ]
  },
  {
   "cell_type": "code",
   "execution_count": null,
   "id": "783aa86e",
   "metadata": {},
   "outputs": [],
   "source": [
    "\n",
    "from sklearn.ensemble import RandomForestRegressor\n",
    "from sklearn.metrics import mean_squared_error, r2_score\n",
    "\n",
    "# Split the data into train and test sets\n",
    "X_train, X_test, y_train, y_test = train_test_split(X, y_traffic_volume, test_size=0.2, random_state=42)\n",
    "\n",
    "# Initialize the Random Forest Regressor\n",
    "rf_regressor = RandomForestRegressor(random_state=42)\n",
    "\n",
    "# Train the model\n",
    "rf_regressor.fit(X_train, y_train)\n",
    "\n",
    "# Predict on test data\n",
    "y_pred = rf_regressor.predict(X_test)\n",
    "\n",
    "# Evaluate the model\n",
    "mse = mean_squared_error(y_test, y_pred)\n",
    "rmse = mean_squared_error(y_test, y_pred, squared=False)\n",
    "r2 = r2_score(y_test, y_pred)\n",
    "\n",
    "(mse, rmse, r2)\n"
   ]
  },
  {
   "cell_type": "markdown",
   "id": "ddf54708",
   "metadata": {},
   "source": [
    "## Congestion Level Classification - Random Forest Classifier"
   ]
  },
  {
   "cell_type": "code",
   "execution_count": null,
   "id": "956810c2",
   "metadata": {},
   "outputs": [],
   "source": [
    "\n",
    "from sklearn.ensemble import RandomForestClassifier\n",
    "from sklearn.metrics import classification_report\n",
    "\n",
    "# Categorize congestion levels\n",
    "congestion_labels = ['Low', 'Medium', 'High']\n",
    "df['Congestion Level Category'] = pd.cut(df['Congestion Level'], bins=[0, 33, 66, 100], labels=congestion_labels)\n",
    "\n",
    "# Separate features and target variable for classification\n",
    "y_congestion = df['Congestion Level Category']\n",
    "X_classification = df.drop(columns=['Congestion Level', 'Traffic Volume', 'Incident Reports', 'Congestion Level Category'])\n",
    "\n",
    "# Split the data\n",
    "X_train_class, X_test_class, y_train_class, y_test_class = train_test_split(X_classification, y_congestion, test_size=0.2, random_state=42)\n",
    "\n",
    "# Initialize the Random Forest Classifier\n",
    "rf_classifier = RandomForestClassifier(random_state=42)\n",
    "\n",
    "# Train the model\n",
    "rf_classifier.fit(X_train_class, y_train_class)\n",
    "\n",
    "# Predict on test data\n",
    "y_pred_class = rf_classifier.predict(X_test_class)\n",
    "\n",
    "# Evaluate the model\n",
    "classification_rep = classification_report(y_test_class, y_pred_class, target_names=congestion_labels)\n",
    "\n",
    "classification_rep\n"
   ]
  },
  {
   "cell_type": "markdown",
   "id": "dddd9a18",
   "metadata": {},
   "source": [
    "## Incident Detection - Random Forest Classifier"
   ]
  },
  {
   "cell_type": "code",
   "execution_count": null,
   "id": "dec6bfe7",
   "metadata": {},
   "outputs": [],
   "source": [
    "\n",
    "# Prepare the data for incident detection\n",
    "y_incident = df['Incident Reports']\n",
    "X_incident_classification = df.drop(columns=['Congestion Level', 'Traffic Volume', 'Incident Reports'])\n",
    "\n",
    "# Split the data for incident detection\n",
    "X_train_incident, X_test_incident, y_train_incident, y_test_incident = train_test_split(X_incident_classification, y_incident, test_size=0.2, random_state=42)\n",
    "\n",
    "# Standardize numerical features\n",
    "scaler = StandardScaler()\n",
    "X_train_incident_scaled = scaler.fit_transform(X_train_incident)\n",
    "X_test_incident_scaled = scaler.transform(X_test_incident)\n",
    "\n",
    "# Initialize Random Forest Classifier for incident detection\n",
    "rf_incident_classifier = RandomForestClassifier(random_state=42)\n",
    "\n",
    "# Train the model\n",
    "rf_incident_classifier.fit(X_train_incident_scaled, y_train_incident)\n",
    "\n",
    "# Predict on the test data\n",
    "y_pred_incident = rf_incident_classifier.predict(X_test_incident_scaled)\n",
    "\n",
    "# Evaluate the model performance\n",
    "incident_classification_report = classification_report(y_test_incident, y_pred_incident)\n",
    "\n",
    "incident_classification_report\n"
   ]
  },
  {
   "cell_type": "markdown",
   "id": "2c62cf37",
   "metadata": {},
   "source": [
    "## Conclusion"
   ]
  },
  {
   "cell_type": "code",
   "execution_count": null,
   "id": "1822eefc",
   "metadata": {},
   "outputs": [],
   "source": [
    "\n",
    "# Project Summary\n",
    "# - Traffic Volume Prediction: Achieved high R² with Random Forest Regressor.\n",
    "# - Congestion Level Classification: 94% accuracy with Random Forest Classifier.\n",
    "# - Incident Detection: Model trained with Random Forest Classifier but requires further improvements.\n"
   ]
  }
 ],
 "metadata": {},
 "nbformat": 4,
 "nbformat_minor": 5
}
